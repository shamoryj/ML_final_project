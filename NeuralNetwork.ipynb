{
 "cells": [
  {
   "cell_type": "code",
   "execution_count": 49,
   "id": "15e18d46",
   "metadata": {},
   "outputs": [],
   "source": [
    "import tensorflow as tf\n",
    "import numpy as np\n",
    "from tensorflow import keras\n",
    "from tensorflow.keras.models import Sequential\n",
    "from tensorflow.keras.layers import Dense, Dropout, Activation, Flatten, Conv2D, MaxPooling2D\n",
    "import pandas as pd\n",
    "import functools"
   ]
  },
  {
   "cell_type": "code",
   "execution_count": 50,
   "id": "cb789e7d",
   "metadata": {
    "scrolled": false
   },
   "outputs": [
    {
     "name": "stdout",
     "output_type": "stream",
     "text": [
      "[[    0 10000]\n",
      " [    1 10000]\n",
      " [    2 10000]\n",
      " [    3 10000]\n",
      " [    4 10000]\n",
      " [    5 10000]\n",
      " [    6 10000]\n",
      " [    7 10000]\n",
      " [    8 10000]\n",
      " [    9 10000]\n",
      " [   10 10000]\n",
      " [   11 10000]]\n"
     ]
    }
   ],
   "source": [
    "df = pd.read_csv(\"all_weather_data.csv\")\n",
    "df.head()\n",
    "labels = df.pop(\"weather_description\")\n",
    "features = np.array(df)\n",
    "trainFeats = features[0: 96000][:]\n",
    "testFeats = features[96000:120000][:]\n",
    "trainLabels = labels[0:96000]\n",
    "testLabels = labels[96000:120000]\n",
    "unique, counts = np.unique(labels, return_counts=True)\n",
    "print(np.asarray((unique, counts)).T)"
   ]
  },
  {
   "cell_type": "code",
   "execution_count": 54,
   "id": "6ba03eb4",
   "metadata": {},
   "outputs": [
    {
     "name": "stdout",
     "output_type": "stream",
     "text": [
      "48000/48000 [==============================] - 58s 1ms/step - loss: 41.2680 - accuracy: 0.0828 - top_k_categorical_accuracy: 0.9986 - partial: 0.9870\n",
      "24000/24000 [==============================] - 26s 1ms/step - loss: 41.5945 - accuracy: 0.0855 - top_k_categorical_accuracy: 0.9999 - partial: 0.9972\n",
      "[41.594520568847656, 0.08554166555404663, 0.999875009059906, 0.9971666932106018]\n"
     ]
    }
   ],
   "source": [
    "model = tf.keras.models.Sequential([\n",
    "        tf.keras.layers.Flatten(),    \n",
    "        tf.keras.layers.Dense(456, activation='relu'),   \n",
    "        tf.keras.layers.Dropout(0.3),    \n",
    "        tf.keras.layers.Dense(12, activation='softmax') \n",
    "])\n",
    "\n",
    "optimizer = keras.optimizers.Adam(learning_rate=0.1)\n",
    "top3_acc = functools.partial(keras.metrics.top_k_categorical_accuracy, k=2)\n",
    "\n",
    "\n",
    "model.compile(\n",
    "    optimizer=optimizer,\n",
    "    loss=\"mse\",\n",
    "    metrics= ['accuracy','top_k_categorical_accuracy',top3_acc],\n",
    ")\n",
    "model.fit(x = trainFeats, y = trainLabels, epochs=1, batch_size = 2)\n",
    "results =  model.evaluate(x = testFeats, y = testLabels, batch_size = 1)  \n",
    "print(results)"
   ]
  },
  {
   "cell_type": "code",
   "execution_count": null,
   "id": "aa084e56",
   "metadata": {},
   "outputs": [],
   "source": []
  },
  {
   "cell_type": "code",
   "execution_count": null,
   "id": "5dccca72",
   "metadata": {},
   "outputs": [],
   "source": []
  }
 ],
 "metadata": {
  "kernelspec": {
   "display_name": "Python 3 (ipykernel)",
   "language": "python",
   "name": "python3"
  },
  "language_info": {
   "codemirror_mode": {
    "name": "ipython",
    "version": 3
   },
   "file_extension": ".py",
   "mimetype": "text/x-python",
   "name": "python",
   "nbconvert_exporter": "python",
   "pygments_lexer": "ipython3",
   "version": "3.9.7"
  }
 },
 "nbformat": 4,
 "nbformat_minor": 5
}
