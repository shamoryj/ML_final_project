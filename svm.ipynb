{
 "cells": [
  {
   "cell_type": "code",
   "execution_count": 2,
   "metadata": {},
   "outputs": [
    {
     "name": "stdout",
     "output_type": "stream",
     "text": [
      "            Hour       Day     Month  Year  humidity  pressure  temperature  \\\n",
      "0       0.391304  0.466667  0.818182   0.4  0.591259  0.282649     0.414975   \n",
      "1       0.739130  0.900000  1.000000   0.8 -1.672953 -0.185786    -0.881335   \n",
      "2       1.000000  0.533333  1.000000   0.0  0.837369 -0.107713    -1.774599   \n",
      "3       0.956522  0.133333  1.000000   0.4  0.738925  0.985300     0.267316   \n",
      "4       0.260870  0.533333  0.909091   0.8  1.231146 -0.185786     0.293124   \n",
      "...          ...       ...       ...   ...       ...       ...          ...   \n",
      "119995  0.130435  0.600000  0.727273   0.2  0.049817 -0.107713     0.306340   \n",
      "119996  0.434783  0.800000  0.363636   0.4  0.738925 -0.107713    -0.258019   \n",
      "119997  0.391304  0.633333  0.454545   0.4  0.591259  0.204576     0.206407   \n",
      "119998  0.260870  0.333333  0.454545   0.2  0.738925 -0.185786     0.699920   \n",
      "119999  0.652174  0.200000  0.909091   0.0  0.886592  0.048432     0.084102   \n",
      "\n",
      "        weather_description  wind_direction  wind_speed  Latitude  Longitude  \n",
      "0                         0        0.486111   -0.451351  0.763601   0.839481  \n",
      "1                         1        0.888889    0.004206  0.706449   1.000000  \n",
      "2                         2        0.111111    2.281991  0.840649   0.951440  \n",
      "3                         1        0.650000   -1.362464  0.295674   0.114524  \n",
      "4                         3        0.416667   -0.451351  0.169923   0.533160  \n",
      "...                     ...             ...         ...       ...        ...  \n",
      "119995                    9        0.194444   -0.451351  0.402669   0.812074  \n",
      "119996                    3        0.652778   -0.906908  0.840649   0.951440  \n",
      "119997                    7        0.975000    0.004206  0.603955   0.921167  \n",
      "119998                    0        0.480556   -0.451351  0.624754   0.828348  \n",
      "119999                    3        0.000000   -1.362464  0.295674   0.114524  \n",
      "\n",
      "[120000 rows x 12 columns]\n"
     ]
    }
   ],
   "source": [
    "import pandas as pd\n",
    "import numpy as np\n",
    "import seaborn as sns\n",
    "\n",
    "import matplotlib.pyplot as plt\n",
    "from sklearn.model_selection import train_test_split\n",
    "from sklearn.neighbors import KNeighborsClassifier\n",
    "from sklearn.metrics import classification_report, top_k_accuracy_score\n",
    "\n",
    "%matplotlib inline\n",
    "df = pd.read_csv('all_weather_data.csv')\n",
    "print(df)"
   ]
  },
  {
   "cell_type": "code",
   "execution_count": 3,
   "metadata": {},
   "outputs": [
    {
     "name": "stdout",
     "output_type": "stream",
     "text": [
      "[0 1 2 ... 7 0 3]\n"
     ]
    }
   ],
   "source": [
    "dfX = df.drop('weather_description', axis=1).values\n",
    "dfY = df['weather_description'].values\n",
    "print(dfY)"
   ]
  },
  {
   "cell_type": "code",
   "execution_count": 4,
   "metadata": {},
   "outputs": [],
   "source": [
    "from sklearn.preprocessing import StandardScaler\n",
    "scaler = StandardScaler()\n",
    "scaler.fit(dfX)\n",
    "dfX = scaler.transform(dfX)"
   ]
  },
  {
   "cell_type": "code",
   "execution_count": 5,
   "metadata": {},
   "outputs": [],
   "source": [
    "trainX, testX, trainY, testY = train_test_split(dfX, dfY, test_size=0.2)\n",
    "#print(df)"
   ]
  },
  {
   "cell_type": "code",
   "execution_count": 6,
   "metadata": {},
   "outputs": [],
   "source": [
    "from sklearn.svm import SVC\n",
    "from sklearn import metrics\n",
    "svc=SVC() #Default hyperparameters\n",
    "svc.fit(trainX,trainY)\n",
    "y_pred=svc.predict(testX)\n",
    "print('Accuracy Score:')\n",
    "print(metrics.accuracy_score(testY,y_pred))"
   ]
  },
  {
   "cell_type": "code",
   "execution_count": null,
   "metadata": {},
   "outputs": [],
   "source": [
    "from sklearn.model_selection import cross_val_score\n",
    "svc=SVC(kernel='linear')\n",
    "scores = cross_val_score(svc, dfX, dfY, cv=10, scoring='accuracy')\n",
    "print(scores)"
   ]
  },
  {
   "cell_type": "code",
   "execution_count": null,
   "metadata": {},
   "outputs": [],
   "source": [
    "C_range=list(range(1,26))\n",
    "acc_score=[]\n",
    "for c in C_range:\n",
    "    svc = SVC(kernel='linear', C=c)\n",
    "    scores = cross_val_score(svc, dfX, dfY, cv=10, scoring='accuracy')\n",
    "    acc_score.append(scores.mean())\n",
    "print(acc_score)    "
   ]
  }
 ],
 "metadata": {
  "interpreter": {
   "hash": "05f9467966a25ec077623b50c0b9f5ddbbd4d63e12a22e047be2c63f3848f3bb"
  },
  "kernelspec": {
   "display_name": "Python 3.7.4 ('base')",
   "language": "python",
   "name": "python3"
  },
  "language_info": {
   "codemirror_mode": {
    "name": "ipython",
    "version": 3
   },
   "file_extension": ".py",
   "mimetype": "text/x-python",
   "name": "python",
   "nbconvert_exporter": "python",
   "pygments_lexer": "ipython3",
   "version": "3.7.4"
  },
  "orig_nbformat": 4
 },
 "nbformat": 4,
 "nbformat_minor": 2
}
