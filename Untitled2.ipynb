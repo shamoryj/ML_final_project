{
 "cells": [
  {
   "cell_type": "code",
   "execution_count": 14,
   "id": "15e18d46",
   "metadata": {},
   "outputs": [],
   "source": [
    "import tensorflow as tf\n",
    "import numpy as np\n",
    "from tensorflow import keras\n",
    "from tensorflow.keras.models import Sequential\n",
    "from tensorflow.keras.layers import Dense, Dropout, Activation, Flatten, Conv2D, MaxPooling2D\n",
    "import pandas as pd"
   ]
  },
  {
   "cell_type": "code",
   "execution_count": 17,
   "id": "cb789e7d",
   "metadata": {
    "scrolled": false
   },
   "outputs": [
    {
     "name": "stdout",
     "output_type": "stream",
     "text": [
      "[[    0 10000]\n",
      " [    1 10000]\n",
      " [    2 10000]\n",
      " [    3 10000]\n",
      " [    4 10000]\n",
      " [    5 10000]\n",
      " [    6 10000]\n",
      " [    7 10000]\n",
      " [    8 10000]\n",
      " [    9 10000]\n",
      " [   10 10000]\n",
      " [   11 10000]]\n"
     ]
    }
   ],
   "source": [
    "df = pd.read_csv(\"all_weather_data.csv\")\n",
    "df.head()\n",
    "labels = df.pop(\"weather_description\")\n",
    "features = np.array(df)\n",
    "trainFeats = features[0: 96000][:]\n",
    "testFeats = features[96000:120000][:]\n",
    "trainLabels = labels[0:96000]\n",
    "testLabels = labels[96000:120000]\n",
    "unique, counts = np.unique(labels, return_counts=True)\n",
    "print(np.asarray((unique, counts)).T)"
   ]
  },
  {
   "cell_type": "code",
   "execution_count": null,
   "id": "6ba03eb4",
   "metadata": {},
   "outputs": [
    {
     "name": "stdout",
     "output_type": "stream",
     "text": [
      "Epoch 1/50\n",
      "48000/48000 [==============================] - 63s 1ms/step - loss: 1.9996 - top_k_categorical_accuracy: 0.2553\n",
      "Epoch 2/50\n",
      "48000/48000 [==============================] - 57s 1ms/step - loss: 1.9478 - top_k_categorical_accuracy: 0.2568\n",
      "Epoch 3/50\n",
      "48000/48000 [==============================] - 62s 1ms/step - loss: 1.9398 - top_k_categorical_accuracy: 0.2570\n",
      "Epoch 4/50\n",
      "48000/48000 [==============================] - 58s 1ms/step - loss: 1.9381 - top_k_categorical_accuracy: 0.2593\n",
      "Epoch 5/50\n",
      "48000/48000 [==============================] - 56s 1ms/step - loss: 1.9352 - top_k_categorical_accuracy: 0.2589\n",
      "Epoch 6/50\n",
      "48000/48000 [==============================] - 60s 1ms/step - loss: 1.9309 - top_k_categorical_accuracy: 0.2566\n",
      "Epoch 7/50\n",
      "48000/48000 [==============================] - 59s 1ms/step - loss: 1.9321 - top_k_categorical_accuracy: 0.2621\n",
      "Epoch 8/50\n",
      "48000/48000 [==============================] - 59s 1ms/step - loss: 1.9333 - top_k_categorical_accuracy: 0.2577\n",
      "Epoch 9/50\n",
      "48000/48000 [==============================] - 58s 1ms/step - loss: 1.9340 - top_k_categorical_accuracy: 0.2591\n",
      "Epoch 10/50\n",
      "48000/48000 [==============================] - 57s 1ms/step - loss: 1.9348 - top_k_categorical_accuracy: 0.2614\n",
      "Epoch 11/50\n",
      "48000/48000 [==============================] - 61s 1ms/step - loss: 1.9318 - top_k_categorical_accuracy: 0.2618\n",
      "Epoch 12/50\n",
      "48000/48000 [==============================] - 65s 1ms/step - loss: 1.9329 - top_k_categorical_accuracy: 0.2575\n",
      "Epoch 13/50\n",
      "48000/48000 [==============================] - 62s 1ms/step - loss: 1.9306 - top_k_categorical_accuracy: 0.2575\n",
      "Epoch 14/50\n",
      "48000/48000 [==============================] - 56s 1ms/step - loss: 1.9351 - top_k_categorical_accuracy: 0.2603\n",
      "Epoch 15/50\n",
      "48000/48000 [==============================] - 53s 1ms/step - loss: 1.9326 - top_k_categorical_accuracy: 0.2564\n",
      "Epoch 16/50\n",
      "48000/48000 [==============================] - 59s 1ms/step - loss: 1.9326 - top_k_categorical_accuracy: 0.2575\n",
      "Epoch 17/50\n",
      "48000/48000 [==============================] - 59s 1ms/step - loss: 1.9322 - top_k_categorical_accuracy: 0.2620\n",
      "Epoch 18/50\n",
      "48000/48000 [==============================] - 60s 1ms/step - loss: 1.9314 - top_k_categorical_accuracy: 0.2561\n",
      "Epoch 19/50\n",
      "48000/48000 [==============================] - 57s 1ms/step - loss: 1.9322 - top_k_categorical_accuracy: 0.2562\n",
      "Epoch 20/50\n",
      "48000/48000 [==============================] - 55s 1ms/step - loss: 1.9340 - top_k_categorical_accuracy: 0.2561\n",
      "Epoch 21/50\n",
      "47337/48000 [============================>.] - ETA: 0s - loss: 1.9349 - top_k_categorical_accuracy: 0.2571"
     ]
    }
   ],
   "source": [
    "model = tf.keras.models.Sequential([\n",
    "        tf.keras.layers.Flatten(),    \n",
    "        tf.keras.layers.Dense(456, activation='relu'),    \n",
    "        tf.keras.layers.Dropout(0.3),    \n",
    "        tf.keras.layers.Dense(12, activation='softmax') \n",
    "])\n",
    "\n",
    "model.compile(\n",
    "    optimizer='adam',\n",
    "    loss=\"sparse_categorical_crossentropy\",\n",
    "    metrics= [tf.keras.metrics.TopKCategoricalAccuracy(k=3)],\n",
    ")\n",
    "model.fit(x = trainFeats, y = trainLabels, epochs=50, batch_size = 2)\n",
    "results =  model.evaluate(x = testFeats, y = testLabels)  \n",
    "print(results)"
   ]
  },
  {
   "cell_type": "code",
   "execution_count": null,
   "id": "aa084e56",
   "metadata": {},
   "outputs": [],
   "source": []
  },
  {
   "cell_type": "code",
   "execution_count": null,
   "id": "4590e6c7",
   "metadata": {},
   "outputs": [],
   "source": []
  }
 ],
 "metadata": {
  "kernelspec": {
   "display_name": "Python 3 (ipykernel)",
   "language": "python",
   "name": "python3"
  },
  "language_info": {
   "codemirror_mode": {
    "name": "ipython",
    "version": 3
   },
   "file_extension": ".py",
   "mimetype": "text/x-python",
   "name": "python",
   "nbconvert_exporter": "python",
   "pygments_lexer": "ipython3",
   "version": "3.9.7"
  }
 },
 "nbformat": 4,
 "nbformat_minor": 5
}
